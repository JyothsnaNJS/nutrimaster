{
 "cells": [
  {
   "cell_type": "code",
   "execution_count": 2,
   "id": "313670df-a0cd-4893-b504-17dbb7995a7f",
   "metadata": {},
   "outputs": [
    {
     "ename": "SyntaxError",
     "evalue": "(unicode error) 'unicodeescape' codec can't decode bytes in position 2-3: truncated \\UXXXXXXXX escape (3277614112.py, line 4)",
     "output_type": "error",
     "traceback": [
      "\u001b[1;36m  Cell \u001b[1;32mIn[2], line 4\u001b[1;36m\u001b[0m\n\u001b[1;33m    file_path = 'C:\\Users\\jyoth\\Desktop\\Project Expo\\01. Nutri Master\\pdf_upload_website\\compositions\\@ifct2017_compositions_tables.xlsx'\u001b[0m\n\u001b[1;37m                ^\u001b[0m\n\u001b[1;31mSyntaxError\u001b[0m\u001b[1;31m:\u001b[0m (unicode error) 'unicodeescape' codec can't decode bytes in position 2-3: truncated \\UXXXXXXXX escape\n"
     ]
    }
   ],
   "source": [
    "import pandas as pd\n",
    "\n",
    "# Path to the Excel file\n",
    "file_path = 'C:\\Users\\jyoth\\Desktop\\Project Expo\\01. Nutri Master\\pdf_upload_website\\compositions\\ifct2017nutrients.xlsx'\n",
    "\n",
    "# Load the Excel file\n",
    "xls = pd.ExcelFile(file_path)\n",
    "\n",
    "# Define the sheet names you want to extract and clean\n",
    "sheets_to_extract = ['1', '5-1', '5-2', '6-1', '6-2', '7-1', '7-2', '8-1', '8-2', '9-1', '9-2', '10-1', '10-2', '12-1', '12-2']\n",
    "\n",
    "# Initialize an empty list to hold the cleaned data from each sheet\n",
    "cleaned_data_frames = []\n",
    "\n",
    "# Define a function to clean and process each sheet\n",
    "def process_sheet(sheet_name, nutrient_group):\n",
    "    # Load the sheet\n",
    "    sheet_data = pd.read_excel(xls, sheet_name=sheet_name)\n",
    "\n",
    "    # Rename relevant columns based on previous analysis (this may vary slightly between sheets)\n",
    "    sheet_cleaned = sheet_data.rename(columns={\n",
    "        'Unnamed: 1': 'Food Code',\n",
    "        'Unnamed: 2': 'Food Name',\n",
    "        'Unnamed: 5': 'Protein (g)',  # Adjust based on actual column position per sheet\n",
    "        'Unnamed: 9': 'Dietary Fibre (g)',\n",
    "        'Unnamed: 12': 'Carbohydrate (g)'  # Adjust based on the sheet's structure\n",
    "    })\n",
    "\n",
    "    # Extract only the relevant columns (you can adjust this based on what you need)\n",
    "    sheet_cleaned = sheet_cleaned[['Food Code', 'Food Name', 'Protein (g)', 'Dietary Fibre (g)', 'Carbohydrate (g)']]\n",
    "\n",
    "    # Add a new column to indicate the nutrient group this sheet corresponds to\n",
    "    sheet_cleaned['Nutrient Group'] = nutrient_group\n",
    "\n",
    "    # Remove header rows and reset the index (clean up the data)\n",
    "    sheet_cleaned = sheet_cleaned[3:].reset_index(drop=True)\n",
    "\n",
    "    return sheet_cleaned\n",
    "\n",
    "# Process each sheet and append the cleaned data to the list\n",
    "for sheet_name in sheets_to_extract:\n",
    "    # For each sheet, assign a meaningful nutrient group based on the sheet's number\n",
    "    if '1' in sheet_name:\n",
    "        nutrient_group = 'Proximate Principles'\n",
    "    elif '5' in sheet_name:\n",
    "        nutrient_group = 'Fatty Acids'\n",
    "    elif '6' in sheet_name:\n",
    "        nutrient_group = 'Minerals'\n",
    "    elif '7' in sheet_name:\n",
    "        nutrient_group = 'Vitamins'\n",
    "    elif '8' in sheet_name:\n",
    "        nutrient_group = 'Amino Acids'\n",
    "    elif '9' in sheet_name:\n",
    "        nutrient_group = 'Carbohydrates'\n",
    "    elif '10' in sheet_name:\n",
    "        nutrient_group = 'Organic Acids'\n",
    "    elif '12' in sheet_name:\n",
    "        nutrient_group = 'Sterols'\n",
    "\n",
    "    # Process the sheet and append the cleaned dataframe\n",
    "    cleaned_data_frames.append(process_sheet(sheet_name, nutrient_group))\n",
    "\n",
    "# Combine all the cleaned dataframes into one\n",
    "combined_data = pd.concat(cleaned_data_frames, ignore_index=True)\n",
    "\n",
    "# Display the combined data to ensure it has been merged correctly\n",
    "print(combined_data.head())\n",
    "\n",
    "# Save the combined dataset to a CSV file for easy access\n",
    "combined_data.to_csv('combined_food_composition.csv', index=False)\n"
   ]
  },
  {
   "cell_type": "code",
   "execution_count": null,
   "id": "5c32bc91-6447-4452-9716-8fca47f4adc8",
   "metadata": {},
   "outputs": [],
   "source": []
  }
 ],
 "metadata": {
  "kernelspec": {
   "display_name": "Python 3 (ipykernel)",
   "language": "python",
   "name": "python3"
  },
  "language_info": {
   "codemirror_mode": {
    "name": "ipython",
    "version": 3
   },
   "file_extension": ".py",
   "mimetype": "text/x-python",
   "name": "python",
   "nbconvert_exporter": "python",
   "pygments_lexer": "ipython3",
   "version": "3.12.4"
  }
 },
 "nbformat": 4,
 "nbformat_minor": 5
}
